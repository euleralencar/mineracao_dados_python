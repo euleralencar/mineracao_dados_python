{
  "cells": [
    {
      "cell_type": "markdown",
      "metadata": {
        "id": "view-in-github",
        "colab_type": "text"
      },
      "source": [
        "<a href=\"https://colab.research.google.com/github/euleralencar/mineracao_dados_python/blob/main/aula%2001/Aula_01_exercicio.ipynb\" target=\"_parent\"><img src=\"https://colab.research.google.com/assets/colab-badge.svg\" alt=\"Open In Colab\"/></a>"
      ]
    },
    {
      "cell_type": "markdown",
      "metadata": {
        "id": "GaP3aZ9WzCK1"
      },
      "source": [
        "## Análise de Dados com Pandas"
      ]
    },
    {
      "cell_type": "markdown",
      "metadata": {
        "id": "BJuna7I1zCK5"
      },
      "source": [
        "**By: Ronisson Lucas Calmon da Conceição**\n",
        "\n",
        "Author, Researcher and Professor in Data Science and Statistics\n",
        "\n",
        "PhD candidate at Federal University of Bahia (UFBA) and Data Science Consultant\n",
        "\n",
        "[My Linkedin](https://www.linkedin.com/in/ronisson-lucas-calmon-da-concei%C3%A7%C3%A3o-7aa884202/)\n",
        "\n",
        "[My github](https://github.com/ronissonlucas)\n",
        "\n",
        "Follow me !"
      ]
    },
    {
      "cell_type": "markdown",
      "metadata": {
        "id": "uT8Le7-BzCK6"
      },
      "source": [
        "##### **Agenda**\n",
        "* Aspectos introdutórios\n",
        "* Estrutura de Dados no Pandas\n",
        "* Sumarizando Dados,Estatística Descritiva e Transformações\n",
        "* Renomeando colunas\n",
        "* Selecionando dados\n",
        "* Ordenação\n",
        "* Inserção de colunas\n",
        "* Filtros\n",
        "* Drop de linhas e colunas\n",
        "* Funções úteis\n",
        "* Apply, apply map e map\n",
        "* IO\n",
        "* GroupBy"
      ]
    },
    {
      "cell_type": "code",
      "execution_count": null,
      "metadata": {
        "id": "lHtoEGNWzCK6"
      },
      "outputs": [],
      "source": [
        "# install packages\n",
        "!pip install pandas numpy geobr seaborn geopandas plotly"
      ]
    },
    {
      "cell_type": "code",
      "execution_count": null,
      "metadata": {
        "id": "gTEVgbGPzCK7"
      },
      "outputs": [],
      "source": [
        "# imports\n",
        "# data manipulation\n",
        "import pandas as pd\n",
        "import numpy as np\n",
        "import geopandas as gpd\n",
        "\n",
        "# data visualization\n",
        "import geobr\n",
        "import seaborn as sns\n",
        "import matplotlib.pyplot as plt"
      ]
    },
    {
      "cell_type": "markdown",
      "metadata": {
        "id": "wEIZNrpizCK8"
      },
      "source": [
        "### Aspectos introdutórios\n",
        "#### O que é Data Science?\n",
        "\n",
        "Para além da programação e das demais ferramentas, Ciência de Dados é um campo interdisciplinar e desta forma envolve a aplicação de outras disciplinas como Matemática e Estatística, com ênfase na análise de dados para possíveis tomadas de decisão.\n",
        "Assim, o objetivo desta trilha é demonstrar os principais conceitos estatísticos a serem utilizados em Ciência de Dados. Não pretende ser um resumo exaustivo ou definitivo, visto a complexidade destas áreas.\n",
        "\n",
        "<img src = 'https://abracd.org/wp-content/uploads/2019/04/diagrama-data-science.png'/>"
      ]
    },
    {
      "cell_type": "markdown",
      "metadata": {
        "id": "GTK3ucglzCK8"
      },
      "source": [
        "#### Ecossitema do Python\n",
        "\n",
        "##### Eixo base\n",
        "\n",
        "1. NumPy\n",
        "\n",
        "Biblioteca de manipulação de arrays multidimensionais de alta performance, possui diversas funções matemáticas e estatísticas.\n",
        "\n",
        "2. Pandas\n",
        "\n",
        "Principal biblioteca de manipulação e análise de dados. Possui diversos métodos para agrupar, filtrar, manipular, limpar e combinar dados de forma simples.\n",
        "\n",
        "3. StatsModels\n",
        "\n",
        "Módulo com diversas funções estatísticas.\n",
        "\n",
        "4. SciPy\n",
        "\n",
        "Biblioteca para computação científica, com funções de álgebra linear, cálculo, estatística, dentre outras.\n",
        "\n",
        "##### Data Visualization\n",
        "\n",
        "1. Matplotlib\n",
        "\n",
        "2. Seaborn\n",
        "\n",
        "3. Plotly\n",
        "\n",
        "4. Altair\n",
        "\n",
        "5. Bokeh\n",
        "\n",
        "6. Pydot\n",
        "\n",
        "7. Yellowbrick\n",
        "\n",
        "##### Machine Learning e Deep Learning\n",
        "\n",
        "1. Scikit-learn\n",
        "\n",
        "2. TensorFlow\n",
        "\n",
        "3. PyTorch\n",
        "\n",
        "4. Keras\n",
        "\n",
        "\n",
        "##### Scraping\n",
        "\n",
        "1. Scrapy\n",
        "\n",
        "2. Beautiful Soup\n",
        "\n",
        "##### Processamento de Linguagem Natural\n",
        "\n",
        "1. NLTK\n",
        "\n",
        "2. SpaCy\n",
        "\n",
        "3. Gensim\n",
        "\n",
        "Há diversas outras bibliotecas e módulos dentro do ecossitema Pythônico. "
      ]
    },
    {
      "cell_type": "markdown",
      "metadata": {
        "id": "aNtqUN_1zCK9"
      },
      "source": [
        "### Estrutura de Dados no Pandas\n",
        "#### Series"
      ]
    },
    {
      "cell_type": "markdown",
      "metadata": {
        "id": "79ajMm4yzCK-"
      },
      "source": [
        "O que é uma Series?\n",
        "* array unidimensional (ou podemos entender essa estrutura como sendo uma coluna do Excel);\n",
        "* ponto de partida para entender as estruras de dados do Pandas.\n",
        "\n",
        "Usamos o construtor: `pandas.Series( data, index, dtype, copy)`.\n",
        "\n",
        "\n",
        "* `data`: aceita formas variadas de inputs, como arrays NumPy (ndarray), listas, tuplas, constantes e dicionários.\n",
        "* `index`: índice do ojbeto Series, deve ter o mesmo tamanho do array data, o valor default é np.arrange(n), caso nenhum array seja passado.\n",
        "* `dtype`: informa o dtype dos dados, pode ser inferido."
      ]
    },
    {
      "cell_type": "code",
      "execution_count": null,
      "metadata": {
        "id": "pUty7XzszCK-"
      },
      "outputs": [],
      "source": [
        "# exemplo 1 (lista e tupla)\n",
        "\n",
        "# ou ainda: pd.Series((7, 8, 9, 10, 11))"
      ]
    },
    {
      "cell_type": "code",
      "execution_count": null,
      "metadata": {
        "id": "PvGnrl8RzCK_"
      },
      "outputs": [],
      "source": [
        ""
      ]
    },
    {
      "cell_type": "code",
      "execution_count": null,
      "metadata": {
        "id": "asCYz1rOzCK_"
      },
      "outputs": [],
      "source": [
        ""
      ]
    },
    {
      "cell_type": "code",
      "execution_count": null,
      "metadata": {
        "id": "lf16I8lOzCK_"
      },
      "outputs": [],
      "source": [
        "# exemplo 2 (ndarray)\n"
      ]
    },
    {
      "cell_type": "code",
      "execution_count": null,
      "metadata": {
        "id": "7aRzAIQVzCK_"
      },
      "outputs": [],
      "source": [
        "# exemplo 3 (dicionário)\n"
      ]
    },
    {
      "cell_type": "code",
      "execution_count": null,
      "metadata": {
        "id": "A5cwBb-dzCLA"
      },
      "outputs": [],
      "source": [
        "# exemplo 4 (constante)\n"
      ]
    },
    {
      "cell_type": "markdown",
      "metadata": {
        "id": "O6dK_F3BzCLA"
      },
      "source": [
        "Vamos aprender a acessar elementos de uma Series."
      ]
    },
    {
      "cell_type": "code",
      "execution_count": null,
      "metadata": {
        "id": "Wjbs5C0KzCLA"
      },
      "outputs": [],
      "source": [
        ""
      ]
    },
    {
      "cell_type": "code",
      "execution_count": null,
      "metadata": {
        "id": "SKPb17VSzCLA"
      },
      "outputs": [],
      "source": [
        "# 5 primeiros elementos \n"
      ]
    },
    {
      "cell_type": "code",
      "execution_count": null,
      "metadata": {
        "id": "rjJD-rnPzCLA"
      },
      "outputs": [],
      "source": [
        "# 5 últimos elementos \n"
      ]
    },
    {
      "cell_type": "markdown",
      "metadata": {
        "id": "8kvEPSmUzCLB"
      },
      "source": [
        "Veremos que para acessar elementos usaremos uma  sintaxe similar as listas e mesmo objetos ndarray."
      ]
    },
    {
      "cell_type": "code",
      "execution_count": null,
      "metadata": {
        "id": "M7vfT3yezCLB"
      },
      "outputs": [],
      "source": [
        "# primeiro elemento\n"
      ]
    },
    {
      "cell_type": "code",
      "execution_count": null,
      "metadata": {
        "id": "MpOcUv1ZzCLB"
      },
      "outputs": [],
      "source": [
        "# último elemento\n"
      ]
    },
    {
      "cell_type": "code",
      "execution_count": null,
      "metadata": {
        "id": "-3XhvP3izCLB"
      },
      "outputs": [],
      "source": [
        "# 5 primeiros elementos\n"
      ]
    },
    {
      "cell_type": "code",
      "execution_count": null,
      "metadata": {
        "id": "8ntQpETbzCLB"
      },
      "outputs": [],
      "source": [
        "# pega os elementos entre as posições 1 e 4 (exclusive)\n"
      ]
    },
    {
      "cell_type": "code",
      "execution_count": null,
      "metadata": {
        "id": "fCSqxmfSzCLC"
      },
      "outputs": [],
      "source": [
        "# pega os dois últimos elementos\n"
      ]
    },
    {
      "cell_type": "markdown",
      "metadata": {
        "id": "ClOQATJmzCLC"
      },
      "source": [
        "Vamos acessar os elementos pelo label."
      ]
    },
    {
      "cell_type": "code",
      "execution_count": null,
      "metadata": {
        "id": "Fmno9PKczCLC"
      },
      "outputs": [],
      "source": [
        "# pega o primeiro elemento\n"
      ]
    },
    {
      "cell_type": "code",
      "execution_count": null,
      "metadata": {
        "id": "v22ITBZOzCLC"
      },
      "outputs": [],
      "source": [
        ""
      ]
    },
    {
      "cell_type": "code",
      "execution_count": null,
      "metadata": {
        "id": "IBVNDw5szCLC"
      },
      "outputs": [],
      "source": [
        "# pega elementos do rótulo 'a' até o 'd'\n"
      ]
    },
    {
      "cell_type": "code",
      "execution_count": null,
      "metadata": {
        "id": "EgJ4WK3nzCLC"
      },
      "outputs": [],
      "source": [
        "# múltiplos elementos\n"
      ]
    },
    {
      "cell_type": "markdown",
      "metadata": {
        "id": "_lGHWhonzCLD"
      },
      "source": [
        "Agora podemos verificar alguns atributos do nosso objeto."
      ]
    },
    {
      "cell_type": "code",
      "execution_count": null,
      "metadata": {
        "id": "HGFfQdrtzCLD"
      },
      "outputs": [],
      "source": [
        "# shape\n",
        "# temos 8 linhas\n"
      ]
    },
    {
      "cell_type": "code",
      "execution_count": null,
      "metadata": {
        "id": "qrimlnkezCLD"
      },
      "outputs": [],
      "source": [
        "# índice\n"
      ]
    },
    {
      "cell_type": "code",
      "execution_count": null,
      "metadata": {
        "id": "ErstTfixzCLD"
      },
      "outputs": [],
      "source": [
        "# valores: retorna um objeto ndarray\n"
      ]
    },
    {
      "cell_type": "code",
      "execution_count": null,
      "metadata": {
        "id": "9zLAkq4XzCLD"
      },
      "outputs": [],
      "source": [
        ""
      ]
    },
    {
      "cell_type": "code",
      "execution_count": null,
      "metadata": {
        "id": "tUuaziS0zCLD"
      },
      "outputs": [],
      "source": [
        "# número de dimensões\n"
      ]
    },
    {
      "cell_type": "markdown",
      "metadata": {
        "id": "dlFUGUCnzCLE"
      },
      "source": [
        "Agora podemos aplicar estatística descritiva para entender melhor nossos dados, para tanto vamos criar outro objeto."
      ]
    },
    {
      "cell_type": "code",
      "execution_count": null,
      "metadata": {
        "id": "Qrp8k0eWzCLE"
      },
      "outputs": [],
      "source": [
        "notas = [7, 9, 8, 5]\n",
        "alunos = ['Lucas', 'Laís', 'Tales', 'Rebeca']\n",
        "series = pd.Series(notas, index = alunos, name = 'Notas Matemática')"
      ]
    },
    {
      "cell_type": "code",
      "execution_count": null,
      "metadata": {
        "id": "qWGlJmlOzCLE"
      },
      "outputs": [],
      "source": [
        "series"
      ]
    },
    {
      "cell_type": "code",
      "execution_count": null,
      "metadata": {
        "id": "yDN7-S87zCLE"
      },
      "outputs": [],
      "source": [
        "# média das notas\n"
      ]
    },
    {
      "cell_type": "code",
      "execution_count": null,
      "metadata": {
        "id": "nl3yNOkOzCLE"
      },
      "outputs": [],
      "source": [
        "# desvio padrão\n"
      ]
    },
    {
      "cell_type": "code",
      "execution_count": null,
      "metadata": {
        "id": "SdZpX8XHzCLE"
      },
      "outputs": [],
      "source": [
        "# variância\n"
      ]
    },
    {
      "cell_type": "code",
      "execution_count": null,
      "metadata": {
        "id": "kkJZbNdqzCLF"
      },
      "outputs": [],
      "source": [
        "# mediana\n"
      ]
    },
    {
      "cell_type": "code",
      "execution_count": null,
      "metadata": {
        "id": "Jo3ynfHUzCLF"
      },
      "outputs": [],
      "source": [
        "# nota máxima\n"
      ]
    },
    {
      "cell_type": "code",
      "execution_count": null,
      "metadata": {
        "id": "BcdITpVyzCLF"
      },
      "outputs": [],
      "source": [
        "# aluno com nota máxima\n"
      ]
    },
    {
      "cell_type": "code",
      "execution_count": null,
      "metadata": {
        "id": "w10NyU-pzCLF"
      },
      "outputs": [],
      "source": [
        "# nota mínima\n"
      ]
    },
    {
      "cell_type": "code",
      "execution_count": null,
      "metadata": {
        "id": "YiVQ6DBRzCLF"
      },
      "outputs": [],
      "source": [
        "# aluno com nota mínima\n"
      ]
    },
    {
      "cell_type": "markdown",
      "metadata": {
        "id": "VJFdBPKkzCLG"
      },
      "source": [
        "Vejamos agora algumas operações com Series, para tanto iremos criar duas séries."
      ]
    },
    {
      "cell_type": "code",
      "execution_count": null,
      "metadata": {
        "id": "fAyW7yBvzCLG"
      },
      "outputs": [],
      "source": [
        "np.random.seed(8)\n",
        "n = 5\n",
        "notas_biologia = pd.Series(np.random.randint(1, 10, size = n))\n",
        "notas_matematica = pd.Series(np.random.randint(1, 10, size = n))"
      ]
    },
    {
      "cell_type": "code",
      "execution_count": null,
      "metadata": {
        "id": "xiWa_1YpzCLG"
      },
      "outputs": [],
      "source": [
        ""
      ]
    },
    {
      "cell_type": "code",
      "execution_count": null,
      "metadata": {
        "id": "AFKwvVQqzCLG"
      },
      "outputs": [],
      "source": [
        ""
      ]
    },
    {
      "cell_type": "code",
      "execution_count": null,
      "metadata": {
        "id": "1WGk-s2RzCLG"
      },
      "outputs": [],
      "source": [
        ""
      ]
    },
    {
      "cell_type": "code",
      "execution_count": null,
      "metadata": {
        "id": "7MMreJC1zCLG"
      },
      "outputs": [],
      "source": [
        ""
      ]
    },
    {
      "cell_type": "code",
      "execution_count": null,
      "metadata": {
        "id": "PH6RatwkzCLG"
      },
      "outputs": [],
      "source": [
        ""
      ]
    },
    {
      "cell_type": "code",
      "execution_count": null,
      "metadata": {
        "id": "u-DRiIvNzCLG"
      },
      "outputs": [],
      "source": [
        "# média global\n"
      ]
    },
    {
      "cell_type": "code",
      "execution_count": null,
      "metadata": {
        "id": "86DNVSn_zCLG"
      },
      "outputs": [],
      "source": [
        ""
      ]
    },
    {
      "cell_type": "markdown",
      "metadata": {
        "id": "wdUtT8tGzCLH"
      },
      "source": [
        "E se nossa tarefa fosse selecionar apenas os alunos com nota maior ou igual a 6?"
      ]
    },
    {
      "cell_type": "code",
      "execution_count": null,
      "metadata": {
        "id": "zmW_TWzazCLH"
      },
      "outputs": [],
      "source": [
        ""
      ]
    },
    {
      "cell_type": "code",
      "execution_count": null,
      "metadata": {
        "id": "LQKmhQB0zCLH"
      },
      "outputs": [],
      "source": [
        ""
      ]
    },
    {
      "cell_type": "code",
      "execution_count": null,
      "metadata": {
        "id": "1hIOkUrszCLH"
      },
      "outputs": [],
      "source": [
        ""
      ]
    },
    {
      "cell_type": "code",
      "execution_count": null,
      "metadata": {
        "id": "VK-k-nsYzCLH"
      },
      "outputs": [],
      "source": [
        "# alunos com nota maior ou igual a 6\n"
      ]
    },
    {
      "cell_type": "code",
      "execution_count": null,
      "metadata": {
        "id": "w01L_oXWzCLH"
      },
      "outputs": [],
      "source": [
        "# alunos com nota igual a 9\n"
      ]
    },
    {
      "cell_type": "code",
      "execution_count": null,
      "metadata": {
        "id": "JBlNo13hzCLH"
      },
      "outputs": [],
      "source": [
        "# alunos com nota diferente de 9\n",
        "# ou: notas_biologia[notas_biologia != 9]\n"
      ]
    },
    {
      "cell_type": "code",
      "execution_count": null,
      "metadata": {
        "id": "fQUNFWXxzCLH"
      },
      "outputs": [],
      "source": [
        "# adicionando novos valores\n",
        "notas_biologia[5] = 9\n",
        "notas_biologia[6] = 9\n",
        "notas_biologia[7] = 4"
      ]
    },
    {
      "cell_type": "markdown",
      "metadata": {
        "id": "IXIW_sgmzCLH"
      },
      "source": [
        "Agora vamos contar a frequência das notas de biologia:"
      ]
    },
    {
      "cell_type": "code",
      "execution_count": null,
      "metadata": {
        "id": "owvB47ExzCLI"
      },
      "outputs": [],
      "source": [
        ""
      ]
    },
    {
      "cell_type": "markdown",
      "metadata": {
        "id": "x_9PUYDLzCLI"
      },
      "source": [
        "Observe que temos então 3 alunos com nota 9, 2 alunos com notas 4, e assim por diante. Podemos obter esta frequência em termos percentuais, passando `normalize = True`."
      ]
    },
    {
      "cell_type": "code",
      "execution_count": null,
      "metadata": {
        "id": "-exFueS-zCLI"
      },
      "outputs": [],
      "source": [
        ""
      ]
    },
    {
      "cell_type": "markdown",
      "metadata": {
        "id": "f-k3X-VVzCLI"
      },
      "source": [
        "Por fim, uma operação útil seria a concatenação de Series."
      ]
    },
    {
      "cell_type": "code",
      "execution_count": null,
      "metadata": {
        "id": "jC11E3GRzCLI"
      },
      "outputs": [],
      "source": [
        ""
      ]
    },
    {
      "cell_type": "code",
      "execution_count": null,
      "metadata": {
        "id": "sTB5F4ZczCLI"
      },
      "outputs": [],
      "source": [
        ""
      ]
    },
    {
      "cell_type": "code",
      "execution_count": null,
      "metadata": {
        "id": "PFEviZArzCLI"
      },
      "outputs": [],
      "source": [
        ""
      ]
    },
    {
      "cell_type": "code",
      "execution_count": null,
      "metadata": {
        "id": "XVOe7ug3zCLI"
      },
      "outputs": [],
      "source": [
        ""
      ]
    },
    {
      "cell_type": "code",
      "execution_count": null,
      "metadata": {
        "id": "ho4EPIpbzCLI"
      },
      "outputs": [],
      "source": [
        ""
      ]
    },
    {
      "cell_type": "code",
      "execution_count": null,
      "metadata": {
        "id": "RVFCGhDszCLI"
      },
      "outputs": [],
      "source": [
        ""
      ]
    },
    {
      "cell_type": "markdown",
      "metadata": {
        "id": "7b4OytmTzCLJ"
      },
      "source": [
        "Visualização de Dados com Series"
      ]
    },
    {
      "cell_type": "code",
      "execution_count": null,
      "metadata": {
        "id": "1k4k4MwVzCLJ"
      },
      "outputs": [],
      "source": [
        "np.random.seed(9)\n",
        "series = pd.Series(np.random.normal(80, 1.5, size = 50))"
      ]
    },
    {
      "cell_type": "code",
      "execution_count": null,
      "metadata": {
        "id": "OkVurkf0zCLJ"
      },
      "outputs": [],
      "source": [
        "# gráfico de linhas\n"
      ]
    },
    {
      "cell_type": "code",
      "execution_count": null,
      "metadata": {
        "id": "mJTn4g6BzCLJ"
      },
      "outputs": [],
      "source": [
        "# histograma\n"
      ]
    },
    {
      "cell_type": "code",
      "execution_count": null,
      "metadata": {
        "id": "r95Jy3CKzCLJ"
      },
      "outputs": [],
      "source": [
        "# boxplot\n"
      ]
    },
    {
      "cell_type": "markdown",
      "metadata": {
        "id": "QeQjFV3zzCLJ"
      },
      "source": [
        "### DataFrame"
      ]
    },
    {
      "cell_type": "markdown",
      "metadata": {
        "id": "o0MitSVZzCLJ"
      },
      "source": [
        "##### Criando DataFrames: Exemplo 1"
      ]
    },
    {
      "cell_type": "code",
      "execution_count": null,
      "metadata": {
        "id": "GMiNsdp1zCLJ"
      },
      "outputs": [],
      "source": [
        "\n",
        "\n"
      ]
    },
    {
      "cell_type": "markdown",
      "metadata": {
        "id": "T7efq9yXzCLK"
      },
      "source": [
        "##### Criando DataFrames: Exemplo 2"
      ]
    },
    {
      "cell_type": "code",
      "execution_count": null,
      "metadata": {
        "id": "Lbq1gscqzCLK"
      },
      "outputs": [],
      "source": [
        "\n",
        "\n"
      ]
    },
    {
      "cell_type": "markdown",
      "metadata": {
        "id": "aKkXF6CfzCLK"
      },
      "source": [
        "##### Inspeção de Dados"
      ]
    },
    {
      "cell_type": "code",
      "execution_count": null,
      "metadata": {
        "id": "g_M4Tv0uzCLK"
      },
      "outputs": [],
      "source": [
        "# 5 primeiras linhas\n"
      ]
    },
    {
      "cell_type": "code",
      "execution_count": null,
      "metadata": {
        "id": "EGgJ7-i8zCLK"
      },
      "outputs": [],
      "source": [
        "# 5 últimas linhas\n"
      ]
    },
    {
      "cell_type": "code",
      "execution_count": null,
      "metadata": {
        "id": "7HVSHQz5zCLK"
      },
      "outputs": [],
      "source": [
        "# quantidade de linhas e colunas\n"
      ]
    },
    {
      "cell_type": "code",
      "execution_count": null,
      "metadata": {
        "id": "cgKeSbT9zCLK"
      },
      "outputs": [],
      "source": [
        "# quantidade de linhas\n"
      ]
    },
    {
      "cell_type": "code",
      "execution_count": null,
      "metadata": {
        "id": "mXzhyEdSzCLK"
      },
      "outputs": [],
      "source": [
        "# checa o tipo do objeto\n"
      ]
    },
    {
      "cell_type": "code",
      "execution_count": null,
      "metadata": {
        "id": "4lnvNjh3zCLL"
      },
      "outputs": [],
      "source": [
        ""
      ]
    },
    {
      "cell_type": "code",
      "execution_count": null,
      "metadata": {
        "id": "Ggy_2HuszCLL"
      },
      "outputs": [],
      "source": [
        "# linha x coluna\n"
      ]
    },
    {
      "cell_type": "code",
      "execution_count": null,
      "metadata": {
        "id": "GIYPhz6YzCLL"
      },
      "outputs": [],
      "source": [
        "# sumário do DataFrame\n"
      ]
    },
    {
      "cell_type": "code",
      "execution_count": null,
      "metadata": {
        "id": "j6xgA73XzCLL"
      },
      "outputs": [],
      "source": [
        "# índice do DataFrame\n"
      ]
    },
    {
      "cell_type": "code",
      "execution_count": null,
      "metadata": {
        "id": "0aI9QL5HzCLL"
      },
      "outputs": [],
      "source": [
        "# colunas do DataFrame\n"
      ]
    },
    {
      "cell_type": "code",
      "execution_count": null,
      "metadata": {
        "id": "VdXmtcjbzCLL"
      },
      "outputs": [],
      "source": [
        "# dtype de cada coluna\n"
      ]
    },
    {
      "cell_type": "code",
      "execution_count": null,
      "metadata": {
        "id": "Ms-iLj8GzCLL"
      },
      "outputs": [],
      "source": [
        "# número de dimensões\n"
      ]
    },
    {
      "cell_type": "code",
      "execution_count": null,
      "metadata": {
        "id": "-TLzqtfAzCLL"
      },
      "outputs": [],
      "source": [
        "# Series: vetor unidimensional\n"
      ]
    },
    {
      "cell_type": "code",
      "execution_count": null,
      "metadata": {
        "id": "N_KXb704zCLM"
      },
      "outputs": [],
      "source": [
        "# sumário estatístico dos dados\n"
      ]
    },
    {
      "cell_type": "code",
      "execution_count": null,
      "metadata": {
        "id": "50kxTCMSzCLM"
      },
      "outputs": [],
      "source": [
        "# transposição do resultado do sumário estatístico\n"
      ]
    },
    {
      "cell_type": "code",
      "execution_count": null,
      "metadata": {
        "id": "mM0MYmJ8zCLM"
      },
      "outputs": [],
      "source": [
        "# 'all': permite gerar um sumário descritivo para as colunas categóricas\n"
      ]
    },
    {
      "cell_type": "code",
      "execution_count": null,
      "metadata": {
        "id": "y_gmfFS7zCLM"
      },
      "outputs": [],
      "source": [
        "# quantidade de observações não nulas por coluna\n"
      ]
    },
    {
      "cell_type": "markdown",
      "metadata": {
        "id": "7mz7IQ3LzCLM"
      },
      "source": [
        "### Sumarizando Dados e Estatística Descritiva"
      ]
    },
    {
      "cell_type": "code",
      "execution_count": null,
      "metadata": {
        "id": "3wESyY-fzCLM"
      },
      "outputs": [],
      "source": [
        "# cria uma máscara a partir da qual iremos gerar algumas medidas estatísticas\n"
      ]
    },
    {
      "cell_type": "code",
      "execution_count": null,
      "metadata": {
        "id": "AE4wXhdEzCLM"
      },
      "outputs": [],
      "source": [
        "# quantidade de dados não nulo em cada coluna\n"
      ]
    },
    {
      "cell_type": "code",
      "execution_count": null,
      "metadata": {
        "id": "OHOzP95pzCLN"
      },
      "outputs": [],
      "source": [
        "# valor mínimo em cada coluna\n"
      ]
    },
    {
      "cell_type": "code",
      "execution_count": null,
      "metadata": {
        "id": "ixtNfESFzCLN"
      },
      "outputs": [],
      "source": [
        "# índice do valor mínimo em cada coluna\n"
      ]
    },
    {
      "cell_type": "code",
      "execution_count": null,
      "metadata": {
        "id": "X25KO2bwzCLN"
      },
      "outputs": [],
      "source": [
        "# índice do valor mínimo na coluna Idade\n"
      ]
    },
    {
      "cell_type": "code",
      "execution_count": null,
      "metadata": {
        "id": "-Qkkgy2zzCLN"
      },
      "outputs": [],
      "source": [
        "# valor máximo em cada coluna\n"
      ]
    },
    {
      "cell_type": "code",
      "execution_count": null,
      "metadata": {
        "id": "kA0-njDvzCLN"
      },
      "outputs": [],
      "source": [
        "# índice do valor máximo em cada coluna\n"
      ]
    },
    {
      "cell_type": "code",
      "execution_count": null,
      "metadata": {
        "id": "Ytn3oVzCzCLN"
      },
      "outputs": [],
      "source": [
        "# índice do valor máximo na coluna Idade\n"
      ]
    },
    {
      "cell_type": "code",
      "execution_count": null,
      "metadata": {
        "id": "-hnvFlTZzCLN"
      },
      "outputs": [],
      "source": [
        "# média dos valores em cada coluna\n"
      ]
    },
    {
      "cell_type": "code",
      "execution_count": null,
      "metadata": {
        "id": "fagBJ2gWzCLN"
      },
      "outputs": [],
      "source": [
        "# variância dos valores em cada coluna\n"
      ]
    },
    {
      "cell_type": "code",
      "execution_count": null,
      "metadata": {
        "id": "C2hFfVwTzCLO"
      },
      "outputs": [],
      "source": [
        "# desvio padrão dos valores em cada coluna\n"
      ]
    },
    {
      "cell_type": "code",
      "execution_count": null,
      "metadata": {
        "id": "DHg9lycSzCLO"
      },
      "outputs": [],
      "source": [
        "# desvio médio absoluto dos valores em cada coluna\n"
      ]
    },
    {
      "cell_type": "code",
      "execution_count": null,
      "metadata": {
        "id": "RnlP_0TizCLO"
      },
      "outputs": [],
      "source": [
        "# median dos valores em cada coluna\n"
      ]
    },
    {
      "cell_type": "code",
      "execution_count": null,
      "metadata": {
        "id": "WqhTCfC0zCLO"
      },
      "outputs": [],
      "source": [
        "# moda dos valores em cada coluna\n"
      ]
    },
    {
      "cell_type": "code",
      "execution_count": null,
      "metadata": {
        "id": "gaN3RMEDzCLO"
      },
      "outputs": [],
      "source": [
        "# soma da renda de todos os clientes\n"
      ]
    },
    {
      "cell_type": "code",
      "execution_count": null,
      "metadata": {
        "id": "kU1b_tv2zCLO"
      },
      "outputs": [],
      "source": [
        "# soma cumulativa da renda\n"
      ]
    },
    {
      "cell_type": "code",
      "execution_count": null,
      "metadata": {
        "id": "G7jAm3MpzCLO"
      },
      "outputs": [],
      "source": [
        "# quartis de renda (Q1 e Q3)\n"
      ]
    },
    {
      "cell_type": "code",
      "execution_count": null,
      "metadata": {
        "id": "ozaEsS6yzCLO"
      },
      "outputs": [],
      "source": [
        "# covariância: associação entre variáveis quantitativas\n"
      ]
    },
    {
      "cell_type": "code",
      "execution_count": null,
      "metadata": {
        "id": "2Qe30quQzCLP"
      },
      "outputs": [],
      "source": [
        "# correlação: associação entre variáveis quantitativas\n",
        "# varia de -1 a 1\n",
        "# valores próximos de 1: correlação alta positiva\n",
        "# valores próximos de -1: correlação alta negativa\n",
        "# valores próximos de 0: ausência de correlação\n"
      ]
    },
    {
      "cell_type": "code",
      "execution_count": null,
      "metadata": {
        "id": "FcF959NlzCLP"
      },
      "outputs": [],
      "source": [
        "# url \n",
        "\n",
        "# leitura do dado\n"
      ]
    },
    {
      "cell_type": "code",
      "execution_count": null,
      "metadata": {
        "id": "PI-9H6g2zCLP"
      },
      "outputs": [],
      "source": [
        "# veremos melhor a função pivot_table mais adiante\n"
      ]
    },
    {
      "cell_type": "code",
      "execution_count": null,
      "metadata": {
        "id": "_FQSNkPhzCLP"
      },
      "outputs": [],
      "source": [
        ""
      ]
    },
    {
      "cell_type": "code",
      "execution_count": null,
      "metadata": {
        "id": "Tsmy4yozzCLP"
      },
      "outputs": [],
      "source": [
        "# filtra os dados para estados selecionados\n"
      ]
    },
    {
      "cell_type": "code",
      "execution_count": null,
      "metadata": {
        "id": "P4VNzd0tzCLP"
      },
      "outputs": [],
      "source": [
        ""
      ]
    },
    {
      "cell_type": "code",
      "execution_count": null,
      "metadata": {
        "id": "a4E1g5xAzCLP"
      },
      "outputs": [],
      "source": [
        ""
      ]
    },
    {
      "cell_type": "code",
      "execution_count": null,
      "metadata": {
        "id": "4TLf8V6LzCLP"
      },
      "outputs": [],
      "source": [
        "# dados a partir de 2010\n"
      ]
    },
    {
      "cell_type": "code",
      "execution_count": null,
      "metadata": {
        "id": "dGCIWVXYzCLQ"
      },
      "outputs": [],
      "source": [
        "# taxa de desemprego média para cada estado\n"
      ]
    },
    {
      "cell_type": "code",
      "execution_count": null,
      "metadata": {
        "id": "K4xZGGG6zCLQ"
      },
      "outputs": [],
      "source": [
        "# podemos alterar o axis\n",
        "# então estaríamos calculando a média mensal entre os estados selecionados\n"
      ]
    },
    {
      "cell_type": "markdown",
      "metadata": {
        "id": "x8Yfnq10zCLQ"
      },
      "source": [
        "Vamos escrever nossa própria métrica de agregação."
      ]
    },
    {
      "cell_type": "code",
      "execution_count": null,
      "metadata": {
        "id": "SSraDnGXzCLQ"
      },
      "outputs": [],
      "source": [
        ""
      ]
    },
    {
      "cell_type": "code",
      "execution_count": null,
      "metadata": {
        "id": "88qkFmHhzCLQ"
      },
      "outputs": [],
      "source": [
        ""
      ]
    },
    {
      "cell_type": "markdown",
      "metadata": {
        "id": "Uqp9O3yMzCLQ"
      },
      "source": [
        "Podemos escrever a função de agregação de outro modo:"
      ]
    },
    {
      "cell_type": "code",
      "execution_count": null,
      "metadata": {
        "id": "xhzbEUyNzCLS"
      },
      "outputs": [],
      "source": [
        ""
      ]
    },
    {
      "cell_type": "code",
      "execution_count": null,
      "metadata": {
        "id": "dHqyjgjRzCLS"
      },
      "outputs": [],
      "source": [
        ""
      ]
    },
    {
      "cell_type": "markdown",
      "metadata": {
        "id": "kuTeTVZFzCLS"
      },
      "source": [
        "Podemos aplicar mais de uma métrica de agregação por vez:"
      ]
    },
    {
      "cell_type": "code",
      "execution_count": null,
      "metadata": {
        "id": "5egfV4TDzCLS"
      },
      "outputs": [],
      "source": [
        ""
      ]
    },
    {
      "cell_type": "code",
      "execution_count": null,
      "metadata": {
        "id": "XAGcCy8mzCLS"
      },
      "outputs": [],
      "source": [
        "# podemos alterar o axis\n",
        "# neste caso obtemos informações sobre a taxa de desemprego mensal dos estados selecionados\n"
      ]
    },
    {
      "cell_type": "code",
      "execution_count": null,
      "metadata": {
        "id": "gmM-FMuJzCLS"
      },
      "outputs": [],
      "source": [
        ""
      ]
    },
    {
      "cell_type": "markdown",
      "metadata": {
        "id": "97m9pwoTzCLS"
      },
      "source": [
        "### Renomeando colunas"
      ]
    },
    {
      "cell_type": "code",
      "execution_count": null,
      "metadata": {
        "id": "906LA0lVzCLT"
      },
      "outputs": [],
      "source": [
        ""
      ]
    },
    {
      "cell_type": "code",
      "execution_count": null,
      "metadata": {
        "id": "2Au0bMWPzCLT"
      },
      "outputs": [],
      "source": [
        "# coluna do data frame\n"
      ]
    },
    {
      "cell_type": "code",
      "execution_count": null,
      "metadata": {
        "id": "YknSC2uBzCLT"
      },
      "outputs": [],
      "source": [
        "# cria uma cópia dos dados\n"
      ]
    },
    {
      "cell_type": "code",
      "execution_count": null,
      "metadata": {
        "id": "joFF-FsLzCLT"
      },
      "outputs": [],
      "source": [
        "# renomeia a coluna 'Id' para 'id'\n"
      ]
    },
    {
      "cell_type": "code",
      "execution_count": null,
      "metadata": {
        "id": "cSyERLwFzCLT"
      },
      "outputs": [],
      "source": [
        "# renomeia outras colunas\n"
      ]
    },
    {
      "cell_type": "code",
      "execution_count": null,
      "metadata": {
        "id": "BgvSTdWwzCLT"
      },
      "outputs": [],
      "source": [
        "# note que criamos apenas uma view\n"
      ]
    },
    {
      "cell_type": "code",
      "execution_count": null,
      "metadata": {
        "id": "919wVZRvzCLT"
      },
      "outputs": [],
      "source": [
        ""
      ]
    },
    {
      "cell_type": "code",
      "execution_count": null,
      "metadata": {
        "id": "XCwCXTGizCLT"
      },
      "outputs": [],
      "source": [
        ""
      ]
    },
    {
      "cell_type": "code",
      "execution_count": null,
      "metadata": {
        "id": "eETItQaVzCLT"
      },
      "outputs": [],
      "source": [
        ""
      ]
    },
    {
      "cell_type": "code",
      "execution_count": null,
      "metadata": {
        "id": "hmP-oomvzCLT"
      },
      "outputs": [],
      "source": [
        ""
      ]
    },
    {
      "cell_type": "code",
      "execution_count": null,
      "metadata": {
        "id": "fhB5sc44zCLU"
      },
      "outputs": [],
      "source": [
        "# aplica o método .lower() em cada coluna do DataFrame via função lambda\n"
      ]
    },
    {
      "cell_type": "code",
      "execution_count": null,
      "metadata": {
        "id": "wbQ-rUkJzCLU"
      },
      "outputs": [],
      "source": [
        "# aplica o método .upper() em cada coluna do DataFrame via função lambda\n"
      ]
    },
    {
      "cell_type": "markdown",
      "metadata": {
        "id": "7ovvzNnwzCLU"
      },
      "source": [
        "### Selecionando dados"
      ]
    },
    {
      "cell_type": "code",
      "execution_count": null,
      "metadata": {
        "id": "q47MO8uMzCLU"
      },
      "outputs": [],
      "source": [
        ""
      ]
    },
    {
      "cell_type": "code",
      "execution_count": null,
      "metadata": {
        "id": "cxKJLdXbzCLU"
      },
      "outputs": [],
      "source": [
        ""
      ]
    },
    {
      "cell_type": "markdown",
      "metadata": {
        "id": "M7vBIvhqzCLU"
      },
      "source": [
        ".iloc[]: seleciona valores pelo índice.\n",
        "\n",
        "Sintaxe: `data_frame.iloc[linha, coluna]`"
      ]
    },
    {
      "cell_type": "code",
      "execution_count": null,
      "metadata": {
        "id": "L5yH9TdTzCLU"
      },
      "outputs": [],
      "source": [
        "# todas as linhas da coluna de posição 0\n"
      ]
    },
    {
      "cell_type": "code",
      "execution_count": null,
      "metadata": {
        "id": "JTu11J0hzCLU"
      },
      "outputs": [],
      "source": [
        "# valores entre 'a' e 'd'\n"
      ]
    },
    {
      "cell_type": "code",
      "execution_count": null,
      "metadata": {
        "id": "17pZqTdEzCLU"
      },
      "outputs": [],
      "source": [
        "# valores das linhas 'a' até 'c', para a coluna de posição 0\n"
      ]
    },
    {
      "cell_type": "code",
      "execution_count": null,
      "metadata": {
        "id": "ruGTIWykzCLV"
      },
      "outputs": [],
      "source": [
        "# valores das linhas 'b' até 'd', para a colunas de posição 0 e 1\n"
      ]
    },
    {
      "cell_type": "code",
      "execution_count": null,
      "metadata": {
        "id": "Uu9abPUEzCLV"
      },
      "outputs": [],
      "source": [
        "# valores a partir da coluna 'c', colunas de posição [0 e 2]\n"
      ]
    },
    {
      "cell_type": "markdown",
      "metadata": {
        "id": "P9ceqStjzCLV"
      },
      "source": [
        ".loc[]: seleciona valores pelo label.\n",
        "\n",
        "Sintaxe: `data_frame.loc[linha, coluna]`"
      ]
    },
    {
      "cell_type": "code",
      "execution_count": null,
      "metadata": {
        "id": "ouk0YIAozCLV"
      },
      "outputs": [],
      "source": [
        "# todas as linhas da coluna A\n"
      ]
    },
    {
      "cell_type": "code",
      "execution_count": null,
      "metadata": {
        "id": "L0Ey733FzCLV"
      },
      "outputs": [],
      "source": [
        "# valores entre 'a' e 'd'\n"
      ]
    },
    {
      "cell_type": "code",
      "execution_count": null,
      "metadata": {
        "id": "9V1abCHtzCLV"
      },
      "outputs": [],
      "source": [
        "# valores das linhas 'a' até 'c', para a coluna A\n"
      ]
    },
    {
      "cell_type": "code",
      "execution_count": null,
      "metadata": {
        "id": "lulucV0rzCLV"
      },
      "outputs": [],
      "source": [
        "# valores das linhas 'b' até 'd', para a colunas A e B\n"
      ]
    },
    {
      "cell_type": "code",
      "execution_count": null,
      "metadata": {
        "id": "Qd1PHsDKzCLV"
      },
      "outputs": [],
      "source": [
        "# valores a partir da coluna 'c', colunas de posição [0 e 2]\n"
      ]
    },
    {
      "cell_type": "code",
      "execution_count": null,
      "metadata": {
        "id": "VFuvoORpzCLW"
      },
      "outputs": [],
      "source": [
        "# seleciona todas as colunas da última linha\n"
      ]
    },
    {
      "cell_type": "code",
      "execution_count": null,
      "metadata": {
        "id": "WquyMRIJzCLW"
      },
      "outputs": [],
      "source": [
        "# seleciona todas as colunas das duas últimas linhas\n"
      ]
    },
    {
      "cell_type": "code",
      "execution_count": null,
      "metadata": {
        "id": "VlJPrZSFzCLW"
      },
      "outputs": [],
      "source": [
        "# todos os valores da última coluna\n"
      ]
    },
    {
      "cell_type": "markdown",
      "metadata": {
        "id": "YQgg7dwXzCLW"
      },
      "source": [
        "Selecionando apenas um valor:"
      ]
    },
    {
      "cell_type": "code",
      "execution_count": null,
      "metadata": {
        "id": "BVmFPx0TzCLW"
      },
      "outputs": [],
      "source": [
        ""
      ]
    },
    {
      "cell_type": "code",
      "execution_count": null,
      "metadata": {
        "id": "HaKVnw2czCLW"
      },
      "outputs": [],
      "source": [
        "# altera o valor\n"
      ]
    },
    {
      "cell_type": "code",
      "execution_count": null,
      "metadata": {
        "id": "O7b2K6VwzCLW"
      },
      "outputs": [],
      "source": [
        ""
      ]
    },
    {
      "cell_type": "code",
      "execution_count": null,
      "metadata": {
        "id": "av4KLRQuzCLW"
      },
      "outputs": [],
      "source": [
        ""
      ]
    },
    {
      "cell_type": "code",
      "execution_count": null,
      "metadata": {
        "id": "0LSDZWDKzCLW"
      },
      "outputs": [],
      "source": [
        ""
      ]
    },
    {
      "cell_type": "markdown",
      "metadata": {
        "id": "gp5h9QDZzCLW"
      },
      "source": [
        "### Ordenação"
      ]
    },
    {
      "cell_type": "code",
      "execution_count": null,
      "metadata": {
        "id": "_Hn4nZSazCLX"
      },
      "outputs": [],
      "source": [
        ""
      ]
    },
    {
      "cell_type": "code",
      "execution_count": null,
      "metadata": {
        "id": "xSzjCMcYzCLX"
      },
      "outputs": [],
      "source": [
        "# ordena o data frame pelo nível de renda\n"
      ]
    },
    {
      "cell_type": "code",
      "execution_count": null,
      "metadata": {
        "id": "IMmoNuqNzCLX"
      },
      "outputs": [],
      "source": [
        "# ordena pelo nível de renda e idade\n"
      ]
    },
    {
      "cell_type": "code",
      "execution_count": null,
      "metadata": {
        "id": "mpm5IFn_zCLX"
      },
      "outputs": [],
      "source": [
        "# ordena os dados pelo nível de escolaridade e sexo\n"
      ]
    },
    {
      "cell_type": "code",
      "execution_count": null,
      "metadata": {
        "id": "V8aswcy-zCLX"
      },
      "outputs": [],
      "source": [
        "# valores únicos da coluna Escolaridade\n"
      ]
    },
    {
      "cell_type": "code",
      "execution_count": null,
      "metadata": {
        "id": "DQAT3lNHzCLX"
      },
      "outputs": [],
      "source": [
        "# mapeamento dos valores da coluna escolaridade: 'C'\n"
      ]
    },
    {
      "cell_type": "code",
      "execution_count": null,
      "metadata": {
        "id": "8asYCcKjzCLX"
      },
      "outputs": [],
      "source": [
        "# mapeamento dos valores da coluna de Escolaridade ordenados em ordem alfabética\n"
      ]
    },
    {
      "cell_type": "code",
      "execution_count": null,
      "metadata": {
        "id": "x1k5tO-PzCLX"
      },
      "outputs": [],
      "source": [
        ""
      ]
    },
    {
      "cell_type": "code",
      "execution_count": null,
      "metadata": {
        "id": "5qgtoEJVzCLX"
      },
      "outputs": [],
      "source": [
        "# mapeamento dos valores da coluna de Escolaridade ordenados\n"
      ]
    },
    {
      "cell_type": "code",
      "execution_count": null,
      "metadata": {
        "id": "g-p1Bg19zCLX"
      },
      "outputs": [],
      "source": [
        "# ordena os dados a partir das colunas Renda e Escolaridade\n"
      ]
    },
    {
      "cell_type": "code",
      "execution_count": null,
      "metadata": {
        "id": "T7Pl6FfTzCLY"
      },
      "outputs": [],
      "source": [
        "# ordena os dados a partir das colunas Renda e Escolaridade\n"
      ]
    },
    {
      "cell_type": "code",
      "execution_count": null,
      "metadata": {
        "id": "qgDH9Y_LzCLY"
      },
      "outputs": [],
      "source": [
        "# ordena os dados a partir das colunas Renda e Escolaridade\n"
      ]
    },
    {
      "cell_type": "code",
      "execution_count": null,
      "metadata": {
        "id": "WvAgK5y1zCLY"
      },
      "outputs": [],
      "source": [
        "# ordena os dados a partir das colunas Renda, Escolaridade e Sexo\n",
        "# note que setamos inplace = True\n"
      ]
    },
    {
      "cell_type": "code",
      "execution_count": null,
      "metadata": {
        "id": "-6FiyrW4zCLY"
      },
      "outputs": [],
      "source": [
        ""
      ]
    },
    {
      "cell_type": "code",
      "execution_count": null,
      "metadata": {
        "id": "vE0Tj9W-zCLY"
      },
      "outputs": [],
      "source": [
        "# reset do índice\n"
      ]
    },
    {
      "cell_type": "markdown",
      "metadata": {
        "id": "0-q5muitzCLY"
      },
      "source": [
        "### Inserção de colunas"
      ]
    },
    {
      "cell_type": "code",
      "execution_count": null,
      "metadata": {
        "id": "0DmtSBOAzCLY"
      },
      "outputs": [],
      "source": [
        ""
      ]
    },
    {
      "cell_type": "code",
      "execution_count": null,
      "metadata": {
        "id": "wiSL36u1zCLY"
      },
      "outputs": [],
      "source": [
        "# cria coluna de ativos\n"
      ]
    },
    {
      "cell_type": "code",
      "execution_count": null,
      "metadata": {
        "id": "pFLwOAumzCLY"
      },
      "outputs": [],
      "source": [
        "# cria coluna de renda total\n"
      ]
    },
    {
      "cell_type": "code",
      "execution_count": null,
      "metadata": {
        "id": "RwB_h0u7zCLY"
      },
      "outputs": [],
      "source": [
        "# renda média total dos indivíduos\n"
      ]
    },
    {
      "cell_type": "code",
      "execution_count": null,
      "metadata": {
        "id": "NPxboEpVzCLZ"
      },
      "outputs": [],
      "source": [
        "# renda média dos indivíduos\n"
      ]
    },
    {
      "cell_type": "code",
      "execution_count": null,
      "metadata": {
        "id": "TI-PytoQzCLZ"
      },
      "outputs": [],
      "source": [
        "# outra forma de calcular a renda média dos indivíduos\n"
      ]
    },
    {
      "cell_type": "code",
      "execution_count": null,
      "metadata": {
        "id": "qBeKtg8CzCLZ"
      },
      "outputs": [],
      "source": [
        "# renda média (ativos e renda)\n"
      ]
    },
    {
      "cell_type": "code",
      "execution_count": null,
      "metadata": {
        "id": "hDWcwZRSzCLZ"
      },
      "outputs": [],
      "source": [
        ""
      ]
    },
    {
      "cell_type": "code",
      "execution_count": null,
      "metadata": {
        "id": "FDrKfeJLzCLZ"
      },
      "outputs": [],
      "source": [
        ""
      ]
    },
    {
      "cell_type": "code",
      "execution_count": null,
      "metadata": {
        "id": "MYNkr5E6zCLZ"
      },
      "outputs": [],
      "source": [
        "# posição da coluna 'ativo'\n"
      ]
    },
    {
      "cell_type": "code",
      "execution_count": null,
      "metadata": {
        "id": "Iv_C7K7ZzCLZ"
      },
      "outputs": [],
      "source": [
        "# insere a coluna renda_media na posição da coluna 'ativo'\n"
      ]
    },
    {
      "cell_type": "code",
      "execution_count": null,
      "metadata": {
        "id": "j_RAP_OYzCLZ"
      },
      "outputs": [],
      "source": [
        ""
      ]
    },
    {
      "cell_type": "markdown",
      "metadata": {
        "id": "9PI-GjvmzCLZ"
      },
      "source": [
        "### Filtros"
      ]
    },
    {
      "cell_type": "markdown",
      "metadata": {
        "id": "u38LC7mzzCLa"
      },
      "source": [
        "Nesta seção aprenderemos a fazer filtro com os dados. Por exemplo, como filtrar os dados a partir de uma determianda categorica ou de um conjunto de condições?"
      ]
    },
    {
      "cell_type": "code",
      "execution_count": null,
      "metadata": {
        "id": "SNfKor4_zCLa"
      },
      "outputs": [],
      "source": [
        ""
      ]
    },
    {
      "cell_type": "code",
      "execution_count": null,
      "metadata": {
        "id": "sGxpL_B0zCLa"
      },
      "outputs": [],
      "source": [
        "# condição simples: filtra os dados a partir do sexo Feminino\n"
      ]
    },
    {
      "cell_type": "code",
      "execution_count": null,
      "metadata": {
        "id": "VcEym4hezCLa"
      },
      "outputs": [],
      "source": [
        "# shape do filtro\n"
      ]
    },
    {
      "cell_type": "code",
      "execution_count": null,
      "metadata": {
        "id": "HOuXLxKnzCLa"
      },
      "outputs": [],
      "source": [
        "# condição simples: filtra os dados a partir do sexo Feminino\n"
      ]
    },
    {
      "cell_type": "code",
      "execution_count": null,
      "metadata": {
        "id": "_0ZMhYPHzCLa"
      },
      "outputs": [],
      "source": [
        ""
      ]
    },
    {
      "cell_type": "code",
      "execution_count": null,
      "metadata": {
        "id": "2eayMS51zCLa"
      },
      "outputs": [],
      "source": [
        "#SyntaxError: invalid syntax: df.query(\"Sexo == \"Feminino\"\")"
      ]
    },
    {
      "cell_type": "code",
      "execution_count": null,
      "metadata": {
        "id": "zogzNj2wzCLa"
      },
      "outputs": [],
      "source": [
        "# condição simples: filtra os dados a partir do sexo Feminino\n"
      ]
    },
    {
      "cell_type": "code",
      "execution_count": null,
      "metadata": {
        "id": "62Z2pzNHzCLb"
      },
      "outputs": [],
      "source": [
        "# condição 1: sexo feminino\n",
        "# condição 2: escolaridade ensino superior\n",
        "# AND: &\n"
      ]
    },
    {
      "cell_type": "code",
      "execution_count": null,
      "metadata": {
        "id": "KcVPch__zCLb"
      },
      "outputs": [],
      "source": [
        ""
      ]
    },
    {
      "cell_type": "code",
      "execution_count": null,
      "metadata": {
        "id": "1u-ujIONzCLb"
      },
      "outputs": [],
      "source": [
        ""
      ]
    },
    {
      "cell_type": "code",
      "execution_count": null,
      "metadata": {
        "id": "oGkFsYkazCLb"
      },
      "outputs": [],
      "source": [
        ""
      ]
    },
    {
      "cell_type": "code",
      "execution_count": null,
      "metadata": {
        "id": "B14DAv3jzCLb"
      },
      "outputs": [],
      "source": [
        ""
      ]
    },
    {
      "cell_type": "code",
      "execution_count": null,
      "metadata": {
        "id": "Y3-7isYbzCLb"
      },
      "outputs": [],
      "source": [
        ""
      ]
    },
    {
      "cell_type": "code",
      "execution_count": null,
      "metadata": {
        "id": "r12TqebNzCLb"
      },
      "outputs": [],
      "source": [
        "# condição 1: sexo masculino\n",
        "# condição 2: renda>= 7_500"
      ]
    },
    {
      "cell_type": "code",
      "execution_count": null,
      "metadata": {
        "id": "pWdI1t_lzCLb"
      },
      "outputs": [],
      "source": [
        ""
      ]
    },
    {
      "cell_type": "code",
      "execution_count": null,
      "metadata": {
        "id": "HS9NUBbAzCLb"
      },
      "outputs": [],
      "source": [
        ""
      ]
    },
    {
      "cell_type": "code",
      "execution_count": null,
      "metadata": {
        "id": "uoLln766zCLb"
      },
      "outputs": [],
      "source": [
        ""
      ]
    },
    {
      "cell_type": "code",
      "execution_count": null,
      "metadata": {
        "id": "icczu8-kzCLb"
      },
      "outputs": [],
      "source": [
        ""
      ]
    },
    {
      "cell_type": "code",
      "execution_count": null,
      "metadata": {
        "id": "Ikd91P95zCLb"
      },
      "outputs": [],
      "source": [
        ""
      ]
    },
    {
      "cell_type": "code",
      "execution_count": null,
      "metadata": {
        "id": "912JrYk0zCLb"
      },
      "outputs": [],
      "source": [
        "# condição 1: escolaridade Ensino Fundamental\n",
        "# condição 2: escolaridade Ensino Médio\n",
        "# OR: |\n"
      ]
    },
    {
      "cell_type": "code",
      "execution_count": null,
      "metadata": {
        "id": "bH5hJ4KezCLc"
      },
      "outputs": [],
      "source": [
        ""
      ]
    },
    {
      "cell_type": "code",
      "execution_count": null,
      "metadata": {
        "id": "OvFY9z59zCLc"
      },
      "outputs": [],
      "source": [
        ""
      ]
    },
    {
      "cell_type": "code",
      "execution_count": null,
      "metadata": {
        "id": "x88h7LA2zCLc"
      },
      "outputs": [],
      "source": [
        ""
      ]
    },
    {
      "cell_type": "code",
      "execution_count": null,
      "metadata": {
        "id": "3hKAGSKOzCLc"
      },
      "outputs": [],
      "source": [
        ""
      ]
    },
    {
      "cell_type": "code",
      "execution_count": null,
      "metadata": {
        "id": "z14mPdLazCLc"
      },
      "outputs": [],
      "source": [
        ""
      ]
    },
    {
      "cell_type": "code",
      "execution_count": null,
      "metadata": {
        "id": "jMfvDAlozCLc"
      },
      "outputs": [],
      "source": [
        "# condição 1: renda>=8_000\n",
        "# condição 2: idade>=50\n",
        "# condição 3: feminino\n",
        "\n"
      ]
    },
    {
      "cell_type": "code",
      "execution_count": null,
      "metadata": {
        "id": "dhT6cAd9zCLc"
      },
      "outputs": [],
      "source": [
        ""
      ]
    },
    {
      "cell_type": "code",
      "execution_count": null,
      "metadata": {
        "id": "CwBEK08ZzCLc"
      },
      "outputs": [],
      "source": [
        ""
      ]
    },
    {
      "cell_type": "code",
      "execution_count": null,
      "metadata": {
        "id": "JNPNB0FXzCLc"
      },
      "outputs": [],
      "source": [
        ""
      ]
    },
    {
      "cell_type": "code",
      "execution_count": null,
      "metadata": {
        "id": "n0EO3cY2zCLc"
      },
      "outputs": [],
      "source": [
        ""
      ]
    },
    {
      "cell_type": "code",
      "execution_count": null,
      "metadata": {
        "id": "HsfM1S3AzCLc"
      },
      "outputs": [],
      "source": [
        ""
      ]
    },
    {
      "cell_type": "code",
      "execution_count": null,
      "metadata": {
        "id": "KGJjqx-HzCLc"
      },
      "outputs": [],
      "source": [
        ""
      ]
    },
    {
      "cell_type": "code",
      "execution_count": null,
      "metadata": {
        "id": "Hn6CKL5ZzCLc"
      },
      "outputs": [],
      "source": [
        ""
      ]
    },
    {
      "cell_type": "code",
      "execution_count": null,
      "metadata": {
        "id": "jTDUwj-PzCLc"
      },
      "outputs": [],
      "source": [
        "# nega a proposição\n"
      ]
    },
    {
      "cell_type": "code",
      "execution_count": null,
      "metadata": {
        "id": "a0mp1k8szCLd"
      },
      "outputs": [],
      "source": [
        "# nega a proposição, pega informações apenas para clientes do gênero masculino\n"
      ]
    },
    {
      "cell_type": "code",
      "execution_count": null,
      "metadata": {
        "id": "0RYZOyhqzCLd"
      },
      "outputs": [],
      "source": [
        "# outro exemplo de negação\n",
        "# pega todos os clientes cuja a escolaridade não seja Ensino Superior\n"
      ]
    },
    {
      "cell_type": "code",
      "execution_count": null,
      "metadata": {
        "id": "fgmyd2rmzCLd"
      },
      "outputs": [],
      "source": [
        "# pega apenas os clientes com escolaridade igual a Ensino Superior\n"
      ]
    },
    {
      "cell_type": "code",
      "execution_count": null,
      "metadata": {
        "id": "tYddZkHlzCLd"
      },
      "outputs": [],
      "source": [
        "# nega a condição, pega clientes cuja escolaridade não seja Ensino Superior\n"
      ]
    },
    {
      "cell_type": "code",
      "execution_count": null,
      "metadata": {
        "id": "Xb5igRCBzCLd"
      },
      "outputs": [],
      "source": [
        ""
      ]
    },
    {
      "cell_type": "code",
      "execution_count": null,
      "metadata": {
        "id": "TPV7BN9xzCLd"
      },
      "outputs": [],
      "source": [
        "# pega apenas os clientes cuja a escolaridade seja diferente de Ensino Médio\n"
      ]
    },
    {
      "cell_type": "code",
      "execution_count": null,
      "metadata": {
        "id": "yJZaS-mhzCLd"
      },
      "outputs": [],
      "source": [
        "# verifica se Ensino Médio está contido no array com valores únicos da nossa consulta\n"
      ]
    },
    {
      "cell_type": "markdown",
      "metadata": {
        "id": "LVWZ7KWqzCLd"
      },
      "source": [
        "### Drop de linhas e colunas"
      ]
    },
    {
      "cell_type": "code",
      "execution_count": null,
      "metadata": {
        "id": "mGPcxHy1zCLd"
      },
      "outputs": [],
      "source": [
        "# cópia dos dados\n"
      ]
    },
    {
      "cell_type": "code",
      "execution_count": null,
      "metadata": {
        "id": "htdXvygMzCLd"
      },
      "outputs": [],
      "source": [
        "# remove as colunas Id e Escolaridade\n"
      ]
    },
    {
      "cell_type": "code",
      "execution_count": null,
      "metadata": {
        "id": "C-O4fkhGzCLd"
      },
      "outputs": [],
      "source": [
        "# remove a coluna Id, com inplace = True\n"
      ]
    },
    {
      "cell_type": "code",
      "execution_count": null,
      "metadata": {
        "id": "5lbl07g3zCLe"
      },
      "outputs": [],
      "source": [
        ""
      ]
    },
    {
      "cell_type": "code",
      "execution_count": null,
      "metadata": {
        "id": "T3b9AbUqzCLe"
      },
      "outputs": [],
      "source": [
        "# índice das linhas a partir da condição construída\n"
      ]
    },
    {
      "cell_type": "code",
      "execution_count": null,
      "metadata": {
        "id": "cuoOG8ghzCLe"
      },
      "outputs": [],
      "source": [
        "# índice das linhas a serem removidas\n"
      ]
    },
    {
      "cell_type": "code",
      "execution_count": null,
      "metadata": {
        "id": "MjMV2Bj7zCLe"
      },
      "outputs": [],
      "source": [
        ""
      ]
    },
    {
      "cell_type": "code",
      "execution_count": null,
      "metadata": {
        "id": "K4oxYF0vzCLe"
      },
      "outputs": [],
      "source": [
        ""
      ]
    },
    {
      "cell_type": "code",
      "execution_count": null,
      "metadata": {
        "id": "WHiC4qUrzCLe"
      },
      "outputs": [],
      "source": [
        "# remove a linha 0\n"
      ]
    },
    {
      "cell_type": "code",
      "execution_count": null,
      "metadata": {
        "id": "Il37qz8LzCLe"
      },
      "outputs": [],
      "source": [
        "# remove as linhas no range [0,,3]\n"
      ]
    },
    {
      "cell_type": "code",
      "execution_count": null,
      "metadata": {
        "id": "4ITvELdlzCLe"
      },
      "outputs": [],
      "source": [
        "#drop das colunas Id, Idade e Renda\n"
      ]
    },
    {
      "cell_type": "code",
      "execution_count": null,
      "metadata": {
        "id": "d13MSBhMzCLe"
      },
      "outputs": [],
      "source": [
        ""
      ]
    },
    {
      "cell_type": "code",
      "execution_count": null,
      "metadata": {
        "id": "mDHfCy0CzCLe"
      },
      "outputs": [],
      "source": [
        "# drop das colunas pela posição \n"
      ]
    },
    {
      "cell_type": "code",
      "execution_count": null,
      "metadata": {
        "id": "ABisYu-6zCLe"
      },
      "outputs": [],
      "source": [
        "# drop das colunas via lista\n"
      ]
    },
    {
      "cell_type": "markdown",
      "metadata": {
        "id": "RNX91zTEzCLe"
      },
      "source": [
        "### Funções úteis"
      ]
    },
    {
      "cell_type": "code",
      "execution_count": null,
      "metadata": {
        "id": "fSaDsCtazCLf"
      },
      "outputs": [],
      "source": [
        ""
      ]
    },
    {
      "cell_type": "markdown",
      "metadata": {
        "id": "_vHrDmLRzCLf"
      },
      "source": [
        "sample(): amostra aleatória"
      ]
    },
    {
      "cell_type": "code",
      "execution_count": null,
      "metadata": {
        "id": "gL713_CjzCLf"
      },
      "outputs": [],
      "source": [
        "# amostra aleatória\n"
      ]
    },
    {
      "cell_type": "markdown",
      "metadata": {
        "id": "uzKpbJsszCLf"
      },
      "source": [
        "transpose(): tranposição dos dados"
      ]
    },
    {
      "cell_type": "code",
      "execution_count": null,
      "metadata": {
        "id": "H8GW5Hr6zCLf"
      },
      "outputs": [],
      "source": [
        ""
      ]
    },
    {
      "cell_type": "code",
      "execution_count": null,
      "metadata": {
        "id": "CGU6E1sszCLf"
      },
      "outputs": [],
      "source": [
        ""
      ]
    },
    {
      "cell_type": "markdown",
      "metadata": {
        "id": "fzPc1-URzCLf"
      },
      "source": [
        "select_dtypes(): seleciona colunas a partir do dtype (return a subset of the DataFrame's columns based on the column dtypes)"
      ]
    },
    {
      "cell_type": "code",
      "execution_count": null,
      "metadata": {
        "id": "1iBPb_DmzCLf"
      },
      "outputs": [],
      "source": [
        ""
      ]
    },
    {
      "cell_type": "code",
      "execution_count": null,
      "metadata": {
        "id": "wiJcwzOnzCLf"
      },
      "outputs": [],
      "source": [
        ""
      ]
    },
    {
      "cell_type": "code",
      "execution_count": null,
      "metadata": {
        "id": "zm1O03f1zCLf"
      },
      "outputs": [],
      "source": [
        ""
      ]
    },
    {
      "cell_type": "code",
      "execution_count": null,
      "metadata": {
        "id": "Nfb1bsKSzCLf"
      },
      "outputs": [],
      "source": [
        ""
      ]
    },
    {
      "cell_type": "code",
      "execution_count": null,
      "metadata": {
        "id": "LBG97SXLzCLf"
      },
      "outputs": [],
      "source": [
        ""
      ]
    },
    {
      "cell_type": "code",
      "execution_count": null,
      "metadata": {
        "id": "9SxughUzzCLf"
      },
      "outputs": [],
      "source": [
        ""
      ]
    },
    {
      "cell_type": "markdown",
      "metadata": {
        "id": "j29ENN0ozCLf"
      },
      "source": [
        "astype(): cast a pandas object to a specified dtype ``dtype``"
      ]
    },
    {
      "cell_type": "code",
      "execution_count": null,
      "metadata": {
        "id": "RFXB1Ry1zCLg"
      },
      "outputs": [],
      "source": [
        ""
      ]
    },
    {
      "cell_type": "code",
      "execution_count": null,
      "metadata": {
        "id": "7eJ4WWxOzCLg"
      },
      "outputs": [],
      "source": [
        ""
      ]
    },
    {
      "cell_type": "code",
      "execution_count": null,
      "metadata": {
        "id": "1-9_Hfd6zCLg"
      },
      "outputs": [],
      "source": [
        ""
      ]
    },
    {
      "cell_type": "code",
      "execution_count": null,
      "metadata": {
        "id": "Z_6bgZEizCLg"
      },
      "outputs": [],
      "source": [
        "# itera nas colunas do tipo object e converte para category\n",
        "\n"
      ]
    },
    {
      "cell_type": "code",
      "execution_count": null,
      "metadata": {
        "id": "wkspaHZhzCLg"
      },
      "outputs": [],
      "source": [
        ""
      ]
    },
    {
      "cell_type": "markdown",
      "metadata": {
        "id": "xXpyMfh5zCLg"
      },
      "source": [
        "add_prefix() e add_suffix()"
      ]
    },
    {
      "cell_type": "markdown",
      "metadata": {
        "id": "NvL_2S90zCLg"
      },
      "source": [
        "add_prefix(): For Series, the row labels are prefixed. For DataFrame, the column labels are prefixed.\n",
        "\n"
      ]
    },
    {
      "cell_type": "code",
      "execution_count": null,
      "metadata": {
        "id": "ZsTsdO_4zCLg"
      },
      "outputs": [],
      "source": [
        ""
      ]
    },
    {
      "cell_type": "code",
      "execution_count": null,
      "metadata": {
        "id": "A-fctUTizCLg"
      },
      "outputs": [],
      "source": [
        ""
      ]
    },
    {
      "cell_type": "markdown",
      "metadata": {
        "id": "5LAu0EDuzCLg"
      },
      "source": [
        "add_suffix(): For Series, the row labels are suffixed. For DataFrame, the column labels are suffixed.\n",
        "\n"
      ]
    },
    {
      "cell_type": "code",
      "execution_count": null,
      "metadata": {
        "id": "vw0NApQYzCLg"
      },
      "outputs": [],
      "source": [
        ""
      ]
    },
    {
      "cell_type": "code",
      "execution_count": null,
      "metadata": {
        "id": "UrAhLdq1zCLg"
      },
      "outputs": [],
      "source": [
        ""
      ]
    },
    {
      "cell_type": "markdown",
      "metadata": {
        "id": "tEyoxMZtzCLg"
      },
      "source": [
        "isna() e notna()"
      ]
    },
    {
      "cell_type": "code",
      "execution_count": null,
      "metadata": {
        "id": "AoUhvqFMzCLh"
      },
      "outputs": [],
      "source": [
        "# missing values por colunas\n"
      ]
    },
    {
      "cell_type": "code",
      "execution_count": null,
      "metadata": {
        "id": "MqDYlbcYzCLh"
      },
      "outputs": [],
      "source": [
        ""
      ]
    },
    {
      "cell_type": "code",
      "execution_count": null,
      "metadata": {
        "id": "HUMgc8wgzCLh"
      },
      "outputs": [],
      "source": [
        "# drop de missing values\n",
        "# veremos mais adiante uma aplicação desta função, que possui vários parâmetros\n"
      ]
    },
    {
      "cell_type": "code",
      "execution_count": null,
      "metadata": {
        "id": "yRUMFK7XzCLh"
      },
      "outputs": [],
      "source": [
        "# verifica se uma linha é duplicada\n"
      ]
    },
    {
      "cell_type": "code",
      "execution_count": null,
      "metadata": {
        "id": "F-EoVG7RzCLh"
      },
      "outputs": [],
      "source": [
        "# soma das linhas duplicadas\n"
      ]
    },
    {
      "cell_type": "code",
      "execution_count": null,
      "metadata": {
        "id": "7bb5gLXazCLh"
      },
      "outputs": [],
      "source": [
        ""
      ]
    },
    {
      "cell_type": "code",
      "execution_count": null,
      "metadata": {
        "id": "C7jfOLDqzCLh"
      },
      "outputs": [],
      "source": [
        "# valos únicos\n"
      ]
    },
    {
      "cell_type": "code",
      "execution_count": null,
      "metadata": {
        "id": "qHstib4xzCLj"
      },
      "outputs": [],
      "source": [
        "# conta os valores únicos\n"
      ]
    },
    {
      "cell_type": "code",
      "execution_count": null,
      "metadata": {
        "id": "KPZhntDtzCLj"
      },
      "outputs": [],
      "source": [
        "# conta os valores únicos em cada coluna\n"
      ]
    },
    {
      "cell_type": "code",
      "execution_count": null,
      "metadata": {
        "id": "Ndo-nOUWzCLj"
      },
      "outputs": [],
      "source": [
        ""
      ]
    },
    {
      "cell_type": "code",
      "execution_count": null,
      "metadata": {
        "id": "kpcNFAsQzCLj"
      },
      "outputs": [],
      "source": [
        "\n",
        "\n"
      ]
    },
    {
      "cell_type": "code",
      "execution_count": null,
      "metadata": {
        "id": "r_Y28R5MzCLk"
      },
      "outputs": [],
      "source": [
        "# altera a configuração dos valores da coluna Sexo\n",
        "\n",
        "\n"
      ]
    },
    {
      "cell_type": "code",
      "execution_count": null,
      "metadata": {
        "id": "_81x01nOzCLk"
      },
      "outputs": [],
      "source": [
        "# poderíamos usar para criar uma coluna dummy\n",
        "\n",
        "\n"
      ]
    },
    {
      "cell_type": "markdown",
      "metadata": {
        "id": "I1hya0OWzCLk"
      },
      "source": [
        "O Pandas possui uma função específica para criar variáveis dummies. Antes de aplicar algum modelo estatístico ou de Machine Learning precisamos transformar as variáveis categóricas em número."
      ]
    },
    {
      "cell_type": "code",
      "execution_count": null,
      "metadata": {
        "id": "qfhjIaUfzCLk"
      },
      "outputs": [],
      "source": [
        ""
      ]
    },
    {
      "cell_type": "code",
      "execution_count": null,
      "metadata": {
        "id": "IbLNoZoRzCLk"
      },
      "outputs": [],
      "source": [
        ""
      ]
    },
    {
      "cell_type": "code",
      "execution_count": null,
      "metadata": {
        "id": "d9NKRd6CzCLk"
      },
      "outputs": [],
      "source": [
        "# podemos fazer dummies para todas as colunas categóricas de uma única vez\n"
      ]
    },
    {
      "cell_type": "markdown",
      "metadata": {
        "id": "9gmb0CsuzCLk"
      },
      "source": [
        "Vejamos agora algumas opções para tratar strings:"
      ]
    },
    {
      "cell_type": "code",
      "execution_count": null,
      "metadata": {
        "id": "k6RtUNPvzCLk"
      },
      "outputs": [],
      "source": [
        ""
      ]
    },
    {
      "cell_type": "code",
      "execution_count": null,
      "metadata": {
        "id": "39HasYbHzCLk"
      },
      "outputs": [],
      "source": [
        ""
      ]
    },
    {
      "cell_type": "code",
      "execution_count": null,
      "metadata": {
        "id": "w2X7CLQTzCLk"
      },
      "outputs": [],
      "source": [
        ""
      ]
    },
    {
      "cell_type": "code",
      "execution_count": null,
      "metadata": {
        "id": "RaRPojKkzCLk"
      },
      "outputs": [],
      "source": [
        ""
      ]
    },
    {
      "cell_type": "code",
      "execution_count": null,
      "metadata": {
        "id": "vas11yo0zCLl"
      },
      "outputs": [],
      "source": [
        ""
      ]
    },
    {
      "cell_type": "markdown",
      "metadata": {
        "id": "tuCPBtQozCLl"
      },
      "source": [
        "### Apply, Apply map e map"
      ]
    },
    {
      "cell_type": "markdown",
      "metadata": {
        "id": "qVl6t3WlzCLl"
      },
      "source": [
        "***"
      ]
    },
    {
      "cell_type": "markdown",
      "metadata": {
        "id": "U4fQxabczCLl"
      },
      "source": [
        "**Revisão de funções**"
      ]
    },
    {
      "cell_type": "markdown",
      "metadata": {
        "id": "kXBFRsRvzCLl"
      },
      "source": [
        "Vamos ver antes o que é um função no Python. Funções são úteis para:\n",
        "* Encapsular código;\n",
        "* Automatizar etapas;\n",
        "* Obter um código mais limpo e performático;\n",
        "* Escalar o código."
      ]
    },
    {
      "cell_type": "markdown",
      "metadata": {
        "id": "gTM_BvN-zCLl"
      },
      "source": [
        "Sintaxe funções sem parâmetros e sem retorno:\n",
        "    \n",
        "<code>\n",
        "def function_name():\n",
        "    code\n",
        "</code>"
      ]
    },
    {
      "cell_type": "markdown",
      "metadata": {
        "id": "tQ9dZEIHzCLl"
      },
      "source": [
        "**Exemplo 1:**"
      ]
    },
    {
      "cell_type": "code",
      "execution_count": null,
      "metadata": {
        "id": "dxZ9iUdWzCLl"
      },
      "outputs": [],
      "source": [
        ""
      ]
    },
    {
      "cell_type": "code",
      "execution_count": null,
      "metadata": {
        "id": "6bTavPsYzCLl"
      },
      "outputs": [],
      "source": [
        "# executa a função\n"
      ]
    },
    {
      "cell_type": "markdown",
      "metadata": {
        "id": "aogAMV9hzCLl"
      },
      "source": [
        "Sintaxe função com parâmetros e sem retorno:\n",
        "    \n",
        "<code>\n",
        "def function_name(arg1, arg2, arg3):\n",
        "    code\n",
        "</code>"
      ]
    },
    {
      "cell_type": "markdown",
      "metadata": {
        "id": "NzuV3D0PzCLl"
      },
      "source": [
        "**Exemplo 2:**"
      ]
    },
    {
      "cell_type": "code",
      "execution_count": null,
      "metadata": {
        "id": "KF3oNJm1zCLl"
      },
      "outputs": [],
      "source": [
        ""
      ]
    },
    {
      "cell_type": "code",
      "execution_count": null,
      "metadata": {
        "id": "PAgrI7p6zCLm"
      },
      "outputs": [],
      "source": [
        ""
      ]
    },
    {
      "cell_type": "markdown",
      "metadata": {
        "id": "gkvwQVeZzCLm"
      },
      "source": [
        "Podemos nomear os argumentos:"
      ]
    },
    {
      "cell_type": "code",
      "execution_count": null,
      "metadata": {
        "id": "WiE6nELlzCLm"
      },
      "outputs": [],
      "source": [
        ""
      ]
    },
    {
      "cell_type": "code",
      "execution_count": null,
      "metadata": {
        "id": "oVtg1Q7ozCLm"
      },
      "outputs": [],
      "source": [
        "# o que signifca aquele None?\n"
      ]
    },
    {
      "cell_type": "code",
      "execution_count": null,
      "metadata": {
        "id": "SA7KiqWwzCLm"
      },
      "outputs": [],
      "source": [
        ""
      ]
    },
    {
      "cell_type": "markdown",
      "metadata": {
        "id": "x_UojOapzCLm"
      },
      "source": [
        "Sintaxe de função com parâmetros e retorno:\n",
        "    \n",
        "<code>\n",
        "def function_name(arg1, arg2, arg3):\n",
        "    code\n",
        "    return code\n",
        "</code>"
      ]
    },
    {
      "cell_type": "markdown",
      "metadata": {
        "id": "Iblw0rafzCLm"
      },
      "source": [
        "**Exemplo 3:**"
      ]
    },
    {
      "cell_type": "code",
      "execution_count": null,
      "metadata": {
        "id": "0VxtqTQizCLm"
      },
      "outputs": [],
      "source": [
        ""
      ]
    },
    {
      "cell_type": "code",
      "execution_count": null,
      "metadata": {
        "id": "2m5XHlwKzCLm"
      },
      "outputs": [],
      "source": [
        ""
      ]
    },
    {
      "cell_type": "code",
      "execution_count": null,
      "metadata": {
        "id": "dVbj_0cMzCLm"
      },
      "outputs": [],
      "source": [
        ""
      ]
    },
    {
      "cell_type": "markdown",
      "metadata": {
        "id": "kyW6iTR8zCLm"
      },
      "source": [
        "Funções nativas (built-in) importantes:"
      ]
    },
    {
      "cell_type": "code",
      "execution_count": null,
      "metadata": {
        "id": "mqzxEElwzCLm"
      },
      "outputs": [],
      "source": [
        "# retorna o tipo do objeto (str, int, float, list, tuple, dict)\n"
      ]
    },
    {
      "cell_type": "code",
      "execution_count": null,
      "metadata": {
        "id": "vHxNv746zCLn"
      },
      "outputs": [],
      "source": [
        ""
      ]
    },
    {
      "cell_type": "code",
      "execution_count": null,
      "metadata": {
        "id": "UDi0HudozCLn"
      },
      "outputs": [],
      "source": [
        "# retorna a soma de array\n"
      ]
    },
    {
      "cell_type": "code",
      "execution_count": null,
      "metadata": {
        "id": "X6S98iXRzCLn"
      },
      "outputs": [],
      "source": [
        "# retorna o tamanho de um array ou cadeia de caracteres\n"
      ]
    },
    {
      "cell_type": "code",
      "execution_count": null,
      "metadata": {
        "id": "c-U2l0MozCLn"
      },
      "outputs": [],
      "source": [
        ""
      ]
    },
    {
      "cell_type": "code",
      "execution_count": null,
      "metadata": {
        "id": "i8f5Q9nXzCLn"
      },
      "outputs": [],
      "source": [
        ""
      ]
    },
    {
      "cell_type": "code",
      "execution_count": null,
      "metadata": {
        "id": "6CWihT1SzCLn"
      },
      "outputs": [],
      "source": [
        "# retorna valor mínimo em um array ou cadeia de caracteres\n"
      ]
    },
    {
      "cell_type": "markdown",
      "metadata": {
        "id": "FTbNlzEJzCLn"
      },
      "source": [
        "Para saber mais de funções veja:\n",
        "* https://www.w3schools.com/python/python_functions.asp\n",
        "* https://docs.python.org/3/library/functions.html"
      ]
    },
    {
      "cell_type": "markdown",
      "metadata": {
        "id": "SiXeyWyMzCLn"
      },
      "source": [
        "***"
      ]
    },
    {
      "cell_type": "code",
      "execution_count": null,
      "metadata": {
        "id": "f404cnIqzCLn"
      },
      "outputs": [],
      "source": [
        ""
      ]
    },
    {
      "cell_type": "markdown",
      "metadata": {
        "id": "8h_5jlPozCLn"
      },
      "source": [
        "**map()**\n",
        "* percorre item por item e aplica uma função desejada.\n",
        "\n",
        "Neste exemplo, vamos percorrer cada valor de renda e aplicar a função np.log().\n"
      ]
    },
    {
      "cell_type": "code",
      "execution_count": null,
      "metadata": {
        "id": "ftwjYaUXzCLn"
      },
      "outputs": [],
      "source": [
        ""
      ]
    },
    {
      "cell_type": "code",
      "execution_count": null,
      "metadata": {
        "id": "U_T-qfR0zCLn"
      },
      "outputs": [],
      "source": [
        ""
      ]
    },
    {
      "cell_type": "code",
      "execution_count": null,
      "metadata": {
        "id": "uOqT3m3rzCLo"
      },
      "outputs": [],
      "source": [
        ""
      ]
    },
    {
      "cell_type": "code",
      "execution_count": null,
      "metadata": {
        "id": "zW8eHS0VzCLo"
      },
      "outputs": [],
      "source": [
        "# mapeia os valores da coluna Sexo a partir da função construída\n"
      ]
    },
    {
      "cell_type": "markdown",
      "metadata": {
        "id": "OtS_7mRxzCLo"
      },
      "source": [
        "**apply()**\n",
        "* podemos aplicar uma função em todas as linhas ou em todas as colunas (ou seja, aplica uma função em um determinado eixo)."
      ]
    },
    {
      "cell_type": "code",
      "execution_count": null,
      "metadata": {
        "id": "eenQJ2_azCLo"
      },
      "outputs": [],
      "source": [
        ""
      ]
    },
    {
      "cell_type": "code",
      "execution_count": null,
      "metadata": {
        "id": "qltC4tzBzCLo"
      },
      "outputs": [],
      "source": [
        "# mapeia os valores da coluna Renda\n"
      ]
    },
    {
      "cell_type": "markdown",
      "metadata": {
        "id": "EGHDJwzpzCLo"
      },
      "source": [
        "***"
      ]
    },
    {
      "cell_type": "markdown",
      "metadata": {
        "id": "HaFxklJSzCLo"
      },
      "source": [
        "Mais exemplos:"
      ]
    },
    {
      "cell_type": "markdown",
      "metadata": {
        "id": "8FJYuGUjzCLo"
      },
      "source": [
        "Vamos tentar usar apply e map para aplicar log nos valores do nosso DataFrame."
      ]
    },
    {
      "cell_type": "code",
      "execution_count": null,
      "metadata": {
        "id": "YDKOM-EFzCLo"
      },
      "outputs": [],
      "source": [
        ""
      ]
    },
    {
      "cell_type": "code",
      "execution_count": null,
      "metadata": {
        "id": "98eBDg6OzCLo"
      },
      "outputs": [],
      "source": [
        ""
      ]
    },
    {
      "cell_type": "code",
      "execution_count": null,
      "metadata": {
        "id": "gSp4Chp9zCLo"
      },
      "outputs": [],
      "source": [
        ""
      ]
    },
    {
      "cell_type": "code",
      "execution_count": null,
      "metadata": {
        "id": "wuJSLyNmzCLo"
      },
      "outputs": [],
      "source": [
        ""
      ]
    },
    {
      "cell_type": "code",
      "execution_count": null,
      "metadata": {
        "id": "c2kUhe66zCLp"
      },
      "outputs": [],
      "source": [
        ""
      ]
    },
    {
      "cell_type": "markdown",
      "metadata": {
        "id": "ONsEKvrIzCLp"
      },
      "source": [
        "***"
      ]
    },
    {
      "cell_type": "markdown",
      "metadata": {
        "id": "lCFWZy23zCLp"
      },
      "source": [
        "### IO (Leitura de dados)"
      ]
    },
    {
      "cell_type": "markdown",
      "metadata": {
        "id": "aVG7lQSYzCLp"
      },
      "source": [
        "O podemos permite que trabalhemos com distintos tipos de dados."
      ]
    },
    {
      "cell_type": "code",
      "execution_count": null,
      "metadata": {
        "id": "Xvhte8LpzCLp"
      },
      "outputs": [],
      "source": [
        "# salva o DataFrame criado no formato .csv\n"
      ]
    },
    {
      "cell_type": "code",
      "execution_count": null,
      "metadata": {
        "id": "zZVdBvD8zCLp"
      },
      "outputs": [],
      "source": [
        "# salva o DataFrame criado no formato xlsx\n"
      ]
    },
    {
      "cell_type": "code",
      "execution_count": null,
      "metadata": {
        "id": "J4EozmWVzCLp"
      },
      "outputs": [],
      "source": [
        "# lê o arquivo em csv\n"
      ]
    },
    {
      "cell_type": "code",
      "execution_count": null,
      "metadata": {
        "id": "LvfcPzKTzCLp"
      },
      "outputs": [],
      "source": [
        ""
      ]
    },
    {
      "cell_type": "code",
      "execution_count": null,
      "metadata": {
        "id": "9Hyuzi-MzCLp"
      },
      "outputs": [],
      "source": [
        "# lê o arquivo em Excel\n"
      ]
    },
    {
      "cell_type": "code",
      "execution_count": null,
      "metadata": {
        "id": "QxAAT1ZszCLp"
      },
      "outputs": [],
      "source": [
        ""
      ]
    },
    {
      "cell_type": "markdown",
      "metadata": {
        "id": "fGtg8De-zCLp"
      },
      "source": [
        "### GroupBy"
      ]
    },
    {
      "cell_type": "code",
      "execution_count": null,
      "metadata": {
        "id": "IpN19SSKzCLp"
      },
      "outputs": [],
      "source": [
        ""
      ]
    },
    {
      "cell_type": "code",
      "execution_count": null,
      "metadata": {
        "id": "2s4Gchi8zCLq"
      },
      "outputs": [],
      "source": [
        "# colunas referentes as provadas\n"
      ]
    },
    {
      "cell_type": "code",
      "execution_count": null,
      "metadata": {
        "id": "RVEQS71MzCLq"
      },
      "outputs": [],
      "source": [
        "# média das provas\n"
      ]
    },
    {
      "cell_type": "code",
      "execution_count": null,
      "metadata": {
        "id": "-pF428edzCLq"
      },
      "outputs": [],
      "source": [
        "# quantidade de valores únicos em cada coluna\n"
      ]
    },
    {
      "cell_type": "code",
      "execution_count": null,
      "metadata": {
        "id": "S3qmvPNUzCLq"
      },
      "outputs": [],
      "source": [
        ""
      ]
    },
    {
      "cell_type": "code",
      "execution_count": null,
      "metadata": {
        "id": "HsFQ6HYazCLq"
      },
      "outputs": [],
      "source": [
        ""
      ]
    },
    {
      "cell_type": "code",
      "execution_count": null,
      "metadata": {
        "id": "7dDNCfvyzCLq"
      },
      "outputs": [],
      "source": [
        "# proporção entre os gêneros (absoluto)\n"
      ]
    },
    {
      "cell_type": "code",
      "execution_count": null,
      "metadata": {
        "id": "MN5z27FLzCLq"
      },
      "outputs": [],
      "source": [
        "# proporção entre os gêneros (percentual)\n"
      ]
    },
    {
      "cell_type": "code",
      "execution_count": null,
      "metadata": {
        "id": "Oac6sDz9zCLq"
      },
      "outputs": [],
      "source": [
        ""
      ]
    },
    {
      "cell_type": "markdown",
      "metadata": {
        "id": "CSEKrbv6zCLq"
      },
      "source": [
        "Podemos fazer um gráfico para ver essa proporção:"
      ]
    },
    {
      "cell_type": "code",
      "execution_count": null,
      "metadata": {
        "id": "6uIt_cF_zCLq"
      },
      "outputs": [],
      "source": [
        ""
      ]
    },
    {
      "cell_type": "code",
      "execution_count": null,
      "metadata": {
        "id": "_WuHb66TzCLq"
      },
      "outputs": [],
      "source": [
        "\n",
        "\n",
        "\n",
        "\n",
        "\n"
      ]
    },
    {
      "cell_type": "markdown",
      "metadata": {
        "id": "_PYEPzUuzCLr"
      },
      "source": [
        "Agora podemos criar uma funçao para encapsular o código anterior, de forma que apliquemos este plot para outras colunas."
      ]
    },
    {
      "cell_type": "code",
      "execution_count": null,
      "metadata": {
        "id": "wrbXvx31zCLr"
      },
      "outputs": [],
      "source": [
        "\n",
        "\n",
        "\n",
        "\n"
      ]
    },
    {
      "cell_type": "code",
      "execution_count": null,
      "metadata": {
        "id": "rWDTrwJYzCLr"
      },
      "outputs": [],
      "source": [
        "# executa a função\n"
      ]
    },
    {
      "cell_type": "code",
      "execution_count": null,
      "metadata": {
        "id": "5BeDZAlzzCLr"
      },
      "outputs": [],
      "source": [
        ""
      ]
    },
    {
      "cell_type": "code",
      "execution_count": null,
      "metadata": {
        "id": "jYWJ8kuWzCLr"
      },
      "outputs": [],
      "source": [
        ""
      ]
    },
    {
      "cell_type": "markdown",
      "metadata": {
        "id": "d46HvBdszCLr"
      },
      "source": [
        "Podemos mapear as informações por gênero:"
      ]
    },
    {
      "cell_type": "code",
      "execution_count": null,
      "metadata": {
        "id": "uPxYnKbxzCLr"
      },
      "outputs": [],
      "source": [
        ""
      ]
    },
    {
      "cell_type": "code",
      "execution_count": null,
      "metadata": {
        "id": "AYiDWvRNzCLr"
      },
      "outputs": [],
      "source": [
        ""
      ]
    },
    {
      "cell_type": "code",
      "execution_count": null,
      "metadata": {
        "id": "CBWXAQ0pzCLr"
      },
      "outputs": [],
      "source": [
        ""
      ]
    },
    {
      "cell_type": "code",
      "execution_count": null,
      "metadata": {
        "id": "U-65OL7TzCLr"
      },
      "outputs": [],
      "source": [
        ""
      ]
    },
    {
      "cell_type": "code",
      "execution_count": null,
      "metadata": {
        "id": "Vw0V46gPzCLr"
      },
      "outputs": [],
      "source": [
        ""
      ]
    },
    {
      "cell_type": "markdown",
      "metadata": {
        "id": "o2_pDzEvzCLr"
      },
      "source": [
        "Vamos fazer de outra forma o mesmo plot (mais escalável):"
      ]
    },
    {
      "cell_type": "code",
      "execution_count": null,
      "metadata": {
        "id": "Ks9CNoeBzCLs"
      },
      "outputs": [],
      "source": [
        ""
      ]
    },
    {
      "cell_type": "markdown",
      "metadata": {
        "id": "YwfpAScgzCLs"
      },
      "source": [
        "Podemos então encapsular o código anterior em uma função:"
      ]
    },
    {
      "cell_type": "code",
      "execution_count": null,
      "metadata": {
        "id": "dKOCtovjzCLs"
      },
      "outputs": [],
      "source": [
        ""
      ]
    },
    {
      "cell_type": "code",
      "execution_count": null,
      "metadata": {
        "id": "AsJhX0rrzCLs"
      },
      "outputs": [],
      "source": [
        ""
      ]
    },
    {
      "cell_type": "code",
      "execution_count": null,
      "metadata": {
        "id": "PPxK-adXzCLs"
      },
      "outputs": [],
      "source": [
        ""
      ]
    },
    {
      "cell_type": "markdown",
      "metadata": {
        "id": "aJvOHlOYzCLs"
      },
      "source": [
        "Podemos então generalizar:"
      ]
    },
    {
      "cell_type": "code",
      "execution_count": null,
      "metadata": {
        "id": "V416MS_nzCLs"
      },
      "outputs": [],
      "source": [
        ""
      ]
    },
    {
      "cell_type": "code",
      "execution_count": null,
      "metadata": {
        "id": "01H4pCUPzCLs"
      },
      "outputs": [],
      "source": [
        ""
      ]
    },
    {
      "cell_type": "code",
      "execution_count": null,
      "metadata": {
        "id": "9qTLjhWLzCLs"
      },
      "outputs": [],
      "source": [
        ""
      ]
    },
    {
      "cell_type": "code",
      "execution_count": null,
      "metadata": {
        "id": "MwH8aq-KzCLs"
      },
      "outputs": [],
      "source": [
        ""
      ]
    },
    {
      "cell_type": "markdown",
      "metadata": {
        "id": "j3ztKLaQzCLs"
      },
      "source": [
        "Vamos obter estatística descritivas de acordo com algumas variáveis categóricas do dataset."
      ]
    },
    {
      "cell_type": "code",
      "execution_count": null,
      "metadata": {
        "id": "2OuPomNEzCLs"
      },
      "outputs": [],
      "source": [
        ""
      ]
    },
    {
      "cell_type": "code",
      "execution_count": null,
      "metadata": {
        "id": "7ZmNy_VzzCLt"
      },
      "outputs": [],
      "source": [
        "# média em matemática por gênero\n"
      ]
    },
    {
      "cell_type": "markdown",
      "metadata": {
        "id": "WsWhf8NvzCLt"
      },
      "source": [
        "Vamos supor que, caso o aluno tenha pontuado acima de 70 pontos, tenha sido aprovado. Assim, vamos mapear os possíveis casos de forma agregada."
      ]
    },
    {
      "cell_type": "code",
      "execution_count": null,
      "metadata": {
        "id": "IW3qXIx4zCLt"
      },
      "outputs": [],
      "source": [
        "# estatísticas descritivas de matemática por gênero\n"
      ]
    },
    {
      "cell_type": "code",
      "execution_count": null,
      "metadata": {
        "id": "Gi8mdqfZzCLt"
      },
      "outputs": [],
      "source": [
        ""
      ]
    },
    {
      "cell_type": "markdown",
      "metadata": {
        "id": "KwavoWk2zCLt"
      },
      "source": [
        "Agora vamos agrupar por gênero e lunch (tipo de refeição do aluno)."
      ]
    },
    {
      "cell_type": "code",
      "execution_count": null,
      "metadata": {
        "id": "G3qxENr9zCLt"
      },
      "outputs": [],
      "source": [
        ""
      ]
    },
    {
      "cell_type": "code",
      "execution_count": null,
      "metadata": {
        "id": "rV00lC_QzCLt"
      },
      "outputs": [],
      "source": [
        ""
      ]
    },
    {
      "cell_type": "code",
      "execution_count": null,
      "metadata": {
        "id": "lajt7WKEzCLt"
      },
      "outputs": [],
      "source": [
        ""
      ]
    },
    {
      "cell_type": "code",
      "execution_count": null,
      "metadata": {
        "id": "35J7P1XOzCLt"
      },
      "outputs": [],
      "source": [
        ""
      ]
    },
    {
      "cell_type": "markdown",
      "metadata": {
        "id": "h4-ezVE_zCLu"
      },
      "source": [
        "Façamos um agrupamento por raça/etnia e grau de instrução familiar:"
      ]
    },
    {
      "cell_type": "code",
      "execution_count": null,
      "metadata": {
        "id": "HzTi7kpDzCLu"
      },
      "outputs": [],
      "source": [
        ""
      ]
    },
    {
      "cell_type": "markdown",
      "metadata": {
        "id": "PT44UzxYzCLu"
      },
      "source": [
        "### Próximos capítulos\n",
        "\n",
        "Na próxima aula iremos trabalhar com microdados do ENEM, de modo que iremos aprender na prática processos como Limpeza de Dados, Análise Exploratória e Visualização Estatística. Aprenderemos ainda joins, missing data e outras tratativas.\n",
        "\n",
        "Aula 2:\n",
        "* Cleaning Data\n",
        "* Reshape\n",
        "* Hierarchical Index\n",
        "* Merge\n",
        "* Case: Microdados ENEM\n",
        "    * DataViz: Matplotlib e Seaborn\n",
        "    * Análise Exploratória e Estatística\n",
        "    * Clustering\n",
        "\n",
        "Aula 3:\n",
        "* Visualização de dados na prática com Plotly (international trade data)\n",
        "* Time Series e modelos estatísticos da família Box-Jenkins"
      ]
    },
    {
      "cell_type": "markdown",
      "metadata": {
        "id": "rqcljerozCLu"
      },
      "source": [
        "### Materiais adicionais e referências\n",
        "* https://datascience.quantecon.org/pandas/index.html\n",
        "* https://www.kaggle.com/abdullahsahin/step-by-step-pandas-tutorial-for-beginner\n",
        "* https://www.kaggle.com/kralmachine/pandas-tutorial-for-beginners\n",
        "* https://www.kaggle.com/prashant111/comprehensive-data-analysis-with-pandas\n",
        "* https://www.w3schools.com/python/pandas/default.asp\n",
        "* https://www.geeksforgeeks.org/pandas-tutorial/\n",
        "* https://jakevdp.github.io/PythonDataScienceHandbook/"
      ]
    }
  ],
  "metadata": {
    "kernelspec": {
      "display_name": "Python 3",
      "language": "python",
      "name": "python3"
    },
    "language_info": {
      "codemirror_mode": {
        "name": "ipython",
        "version": 3
      },
      "file_extension": ".py",
      "mimetype": "text/x-python",
      "name": "python",
      "nbconvert_exporter": "python",
      "pygments_lexer": "ipython3",
      "version": "3.8.10"
    },
    "colab": {
      "name": "Aula 01-exercicio.ipynb",
      "provenance": [],
      "include_colab_link": true
    }
  },
  "nbformat": 4,
  "nbformat_minor": 0
}